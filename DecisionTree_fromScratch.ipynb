{
  "nbformat": 4,
  "nbformat_minor": 0,
  "metadata": {
    "colab": {
      "name": "DecisionTree_fromScratch",
      "provenance": [],
      "collapsed_sections": [],
      "authorship_tag": "ABX9TyNDVq0Q5aUr9UFRYCFORTR8",
      "include_colab_link": true
    },
    "kernelspec": {
      "name": "python3",
      "display_name": "Python 3"
    },
    "language_info": {
      "name": "python"
    }
  },
  "cells": [
    {
      "cell_type": "markdown",
      "metadata": {
        "id": "view-in-github",
        "colab_type": "text"
      },
      "source": [
        "<a href=\"https://colab.research.google.com/github/CaQtiml/Data-Structure-and-Graph-Algorithm/blob/master/DecisionTree_fromScratch.ipynb\" target=\"_parent\"><img src=\"https://colab.research.google.com/assets/colab-badge.svg\" alt=\"Open In Colab\"/></a>"
      ]
    },
    {
      "cell_type": "markdown",
      "metadata": {
        "id": "BzlbTWnXZ1CV"
      },
      "source": [
        "## Dataset"
      ]
    },
    {
      "cell_type": "code",
      "metadata": {
        "id": "GDkxmHYeaPJQ"
      },
      "source": [
        "# Format: each row is an example.\n",
        "# The last column is the label.\n",
        "# The first two columns are features.\n",
        "# Feel free to play with it by adding more features & examples.\n",
        "# Interesting note: I've written this so the 2nd and 5th examples\n",
        "# have the same features, but different labels - so we can see how the\n",
        "# tree handles this case.\n",
        "training_data = [\n",
        "    ['Green', 3, 'Apple'],\n",
        "    ['Yellow', 3, 'Apple'],\n",
        "    ['Red', 1, 'Grape'],\n",
        "    ['Red', 1, 'Grape'],\n",
        "    ['Yellow', 3, 'Lemon'],\n",
        "]"
      ],
      "execution_count": 114,
      "outputs": []
    },
    {
      "cell_type": "code",
      "metadata": {
        "id": "eo0GX6joaVTD"
      },
      "source": [
        "# Column labels.\n",
        "# These are used only to print the tree.\n",
        "header = [\"color\", \"diameter\", \"label\"]"
      ],
      "execution_count": 115,
      "outputs": []
    },
    {
      "cell_type": "code",
      "metadata": {
        "id": "lEh-Sr_naXGo"
      },
      "source": [
        "def unique_vals(rows, col):\n",
        "    \"\"\"Find the unique values for a column in a dataset.\"\"\"\n",
        "    return set([row[col] for row in rows])"
      ],
      "execution_count": 116,
      "outputs": []
    },
    {
      "cell_type": "code",
      "metadata": {
        "colab": {
          "base_uri": "https://localhost:8080/"
        },
        "id": "6VbPDs1jaZeo",
        "outputId": "a61d0ccb-0e2f-4e2d-ac10-b12f83962f73"
      },
      "source": [
        "#######\n",
        "# Demo:\n",
        "print(unique_vals(training_data, 0))\n",
        "print(unique_vals(training_data, 1))\n",
        "#######"
      ],
      "execution_count": 117,
      "outputs": [
        {
          "output_type": "stream",
          "text": [
            "{'Yellow', 'Red', 'Green'}\n",
            "{1, 3}\n"
          ],
          "name": "stdout"
        }
      ]
    },
    {
      "cell_type": "code",
      "metadata": {
        "id": "2XVhtaoNae44"
      },
      "source": [
        "def class_counts(rows):\n",
        "    \"\"\"Counts the number of each type of example in a dataset.\"\"\"\n",
        "    counts = {}  # a dictionary of label -> count.\n",
        "    for row in rows:\n",
        "      label = row[-1]\n",
        "      if label not in counts:\n",
        "        counts[label]=0\n",
        "      counts[label]+=1\n",
        "    return counts"
      ],
      "execution_count": 118,
      "outputs": []
    },
    {
      "cell_type": "code",
      "metadata": {
        "colab": {
          "base_uri": "https://localhost:8080/"
        },
        "id": "WtxWsnxEap4x",
        "outputId": "846e13e5-8137-4510-d8ec-245a1adcee89"
      },
      "source": [
        "#######\n",
        "# Demo:\n",
        "x = class_counts(training_data)\n",
        "print(type(x))\n",
        "#######"
      ],
      "execution_count": 119,
      "outputs": [
        {
          "output_type": "stream",
          "text": [
            "<class 'dict'>\n"
          ],
          "name": "stdout"
        }
      ]
    },
    {
      "cell_type": "code",
      "metadata": {
        "id": "WstAvzTgbBrr"
      },
      "source": [
        "def is_numeric(value):\n",
        "    \"\"\"Test if a value is numeric.\"\"\"\n",
        "    return isinstance(value, int) or isinstance(value, float)"
      ],
      "execution_count": 120,
      "outputs": []
    },
    {
      "cell_type": "code",
      "metadata": {
        "id": "ojekJiHmbF-w"
      },
      "source": [
        "class Question:\n",
        "  \"\"\"A Question is used to partition a dataset.\n",
        "\n",
        "    This class just records a 'column number' (e.g., 0 for Color) and a\n",
        "    'column value' (e.g., Green). The 'match' method is used to compare\n",
        "    the feature value in an example to the feature value stored in the\n",
        "    question. See the demo below.\n",
        "    \"\"\"\n",
        "  def __init__(self,column,value):\n",
        "    self.column = column\n",
        "    self.value = value\n",
        "  \n",
        "  def match(self,example): # example be like ['Yellow', 3, 'Apple']\n",
        "    val = example[self.column]\n",
        "    if is_numeric(val):\n",
        "      return val >= self.value\n",
        "    else:\n",
        "      return val == self.value\n",
        "  def __repr__(self):\n",
        "      # This is just a helper method to print\n",
        "      # the question in a readable format.\n",
        "      condition = \"==\"\n",
        "      if is_numeric(self.value):\n",
        "          condition = \">=\"\n",
        "      return \"Is %s %s %s?\" % (\n",
        "          header[self.column], condition, str(self.value))"
      ],
      "execution_count": 121,
      "outputs": []
    },
    {
      "cell_type": "code",
      "metadata": {
        "colab": {
          "base_uri": "https://localhost:8080/"
        },
        "id": "l6dTGw9vcTLM",
        "outputId": "f98ee8cd-f0aa-4e1d-c8fe-d26a3a06451a"
      },
      "source": [
        "#######\n",
        "# Demo:\n",
        "# Let's write a question for a numeric attribute\n",
        "print(Question(0, \"Yellow\"))\n",
        "print(Question(1, 3))"
      ],
      "execution_count": 122,
      "outputs": [
        {
          "output_type": "stream",
          "text": [
            "Is color == Yellow?\n",
            "Is diameter >= 3?\n"
          ],
          "name": "stdout"
        }
      ]
    },
    {
      "cell_type": "code",
      "metadata": {
        "colab": {
          "base_uri": "https://localhost:8080/"
        },
        "id": "8WPmpDZ5ceNB",
        "outputId": "60b09af5-1caf-401f-8cfe-ce4369374087"
      },
      "source": [
        "q = Question(0, 'Green')\n",
        "example = training_data[0]\n",
        "print(example)\n",
        "q.match(example)"
      ],
      "execution_count": 123,
      "outputs": [
        {
          "output_type": "stream",
          "text": [
            "['Green', 3, 'Apple']\n"
          ],
          "name": "stdout"
        },
        {
          "output_type": "execute_result",
          "data": {
            "text/plain": [
              "True"
            ]
          },
          "metadata": {
            "tags": []
          },
          "execution_count": 123
        }
      ]
    },
    {
      "cell_type": "code",
      "metadata": {
        "id": "NoSYh6GRc1Sk"
      },
      "source": [
        "def partition(rows, question):\n",
        "  \"\"\"Partitions a dataset.\n",
        "\n",
        "  For each row in the dataset, check if it matches the question. If\n",
        "  so, add it to 'true rows', otherwise, add it to 'false rows'.\n",
        "\n",
        "  rows - training set\n",
        "  question - Question(0, 'Red')\n",
        "\n",
        "  OUTPUT : true_rows ([['Red', 1, 'Grape'], ['Red', 1, 'Grape']]) , false_rows ([['Green', 3, 'Apple'], ['Yellow', 3, 'Apple'], ['Yellow', 3, 'Lemon']])\n",
        "  \"\"\"\n",
        "  true_rows = []\n",
        "  false_rows = []\n",
        "\n",
        "  for row in rows:\n",
        "    if question.match(row):\n",
        "      true_rows.append(row)\n",
        "    else:\n",
        "      false_rows.append(row)\n",
        "  return true_rows,false_rows\n",
        "\n"
      ],
      "execution_count": 124,
      "outputs": []
    },
    {
      "cell_type": "code",
      "metadata": {
        "colab": {
          "base_uri": "https://localhost:8080/"
        },
        "id": "xn52z8f8eyQK",
        "outputId": "8f9e1cef-0aae-43ae-9073-4cb8fa84aa5f"
      },
      "source": [
        "#######\n",
        "# Demo:\n",
        "# Let's partition the training data based on whether rows are Red.\n",
        "true_rows, false_rows = partition(training_data, Question(0, 'Red'))\n",
        "# This will contain all the 'Red' rows.\n",
        "print(true_rows)\n",
        "print(false_rows)"
      ],
      "execution_count": 125,
      "outputs": [
        {
          "output_type": "stream",
          "text": [
            "[['Red', 1, 'Grape'], ['Red', 1, 'Grape']]\n",
            "[['Green', 3, 'Apple'], ['Yellow', 3, 'Apple'], ['Yellow', 3, 'Lemon']]\n"
          ],
          "name": "stdout"
        }
      ]
    },
    {
      "cell_type": "code",
      "metadata": {
        "id": "e1YFmn_ne5mo"
      },
      "source": [
        "def gini(rows):\n",
        "  counts = class_counts(rows)\n",
        "  impurity = 1\n",
        "  for lbl in counts:\n",
        "    prob_of_lbl = counts[lbl]/float(len(rows))\n",
        "    impurity -= prob_of_lbl**2\n",
        "  return impurity"
      ],
      "execution_count": 126,
      "outputs": []
    },
    {
      "cell_type": "code",
      "metadata": {
        "colab": {
          "base_uri": "https://localhost:8080/"
        },
        "id": "gH-CtmX7gO6g",
        "outputId": "5a4d8c8e-6c14-4ad5-d6d6-609215dc05ea"
      },
      "source": [
        "#######\n",
        "# Demo:\n",
        "# Let's look at some example to understand how Gini Impurity works.\n",
        "#\n",
        "# First, we'll look at a dataset with no mixing.\n",
        "no_mixing = [['Apple'],\n",
        "              ['Apple']]\n",
        "# this will return 0\n",
        "gini(no_mixing)"
      ],
      "execution_count": 127,
      "outputs": [
        {
          "output_type": "execute_result",
          "data": {
            "text/plain": [
              "0.0"
            ]
          },
          "metadata": {
            "tags": []
          },
          "execution_count": 127
        }
      ]
    },
    {
      "cell_type": "code",
      "metadata": {
        "colab": {
          "base_uri": "https://localhost:8080/"
        },
        "id": "r71I2H8vgNKJ",
        "outputId": "c303d74b-0546-4515-8c2b-98c78830e2aa"
      },
      "source": [
        "# Now, we'll look at dataset with a 50:50 apples:oranges ratio\n",
        "some_mixing = [['Apple'],\n",
        "               ['Orange']]\n",
        "# this will return 0.5 - meaning, there's a 50% chance of misclassifying\n",
        "# a random example we draw from the dataset.\n",
        "gini(some_mixing)"
      ],
      "execution_count": 128,
      "outputs": [
        {
          "output_type": "execute_result",
          "data": {
            "text/plain": [
              "0.5"
            ]
          },
          "metadata": {
            "tags": []
          },
          "execution_count": 128
        }
      ]
    },
    {
      "cell_type": "code",
      "metadata": {
        "colab": {
          "base_uri": "https://localhost:8080/"
        },
        "id": "KXVqCKxOiz4-",
        "outputId": "77b5d291-778c-4bc6-aa63-26418b886ed1"
      },
      "source": [
        "# Now, we'll look at a dataset with many different labels\n",
        "lots_of_mixing = [['Apple'],\n",
        "                  ['Orange'],\n",
        "                  ['Grape'],\n",
        "                  ['Grapefruit'],\n",
        "                  ['Blueberry']]\n",
        "# This will return 0.8\n",
        "gini(lots_of_mixing)\n",
        "#######"
      ],
      "execution_count": 129,
      "outputs": [
        {
          "output_type": "execute_result",
          "data": {
            "text/plain": [
              "0.7999999999999998"
            ]
          },
          "metadata": {
            "tags": []
          },
          "execution_count": 129
        }
      ]
    },
    {
      "cell_type": "code",
      "metadata": {
        "id": "nMXWnXeJkfRF"
      },
      "source": [
        "def info_gain(left, right, current_uncertainty):\n",
        "    \"\"\"Information Gain.\n",
        "\n",
        "    The uncertainty of the starting node, minus the weighted impurity of\n",
        "    two child nodes.\n",
        "    \"\"\"\n",
        "    p = float(len(left)) / (len(left) + len(right))\n",
        "    return current_uncertainty - p * gini(left) - (1 - p) * gini(right)"
      ],
      "execution_count": 130,
      "outputs": []
    },
    {
      "cell_type": "code",
      "metadata": {
        "id": "W5Cx3t8Ii1yY"
      },
      "source": [
        "## another implementation of info_gain by receiving all instead of gini(all) (but same algorithm)\n",
        "def info_gain_2(left,right,all):\n",
        "  p = float(len(left)) / (len(left) + len(right))\n",
        "  return gini(all) - p*gini(left) - (1-p)*gini(right)"
      ],
      "execution_count": 131,
      "outputs": []
    },
    {
      "cell_type": "code",
      "metadata": {
        "colab": {
          "base_uri": "https://localhost:8080/"
        },
        "id": "K_Z4_RNPkQQy",
        "outputId": "61467556-b06b-4672-835f-dcf95f3527a1"
      },
      "source": [
        "true_rows, false_rows = partition(training_data, Question(0, 'Green'))\n",
        "info_gain_2(true_rows, false_rows, training_data)"
      ],
      "execution_count": 132,
      "outputs": [
        {
          "output_type": "execute_result",
          "data": {
            "text/plain": [
              "0.1399999999999999"
            ]
          },
          "metadata": {
            "tags": []
          },
          "execution_count": 132
        }
      ]
    },
    {
      "cell_type": "code",
      "metadata": {
        "colab": {
          "base_uri": "https://localhost:8080/"
        },
        "id": "kgzkIPYkkoyh",
        "outputId": "1baf8248-1d5f-4681-b7c9-6a6aecff7f08"
      },
      "source": [
        "current_uncertainty = gini(training_data)\n",
        "current_uncertainty"
      ],
      "execution_count": 133,
      "outputs": [
        {
          "output_type": "execute_result",
          "data": {
            "text/plain": [
              "0.6399999999999999"
            ]
          },
          "metadata": {
            "tags": []
          },
          "execution_count": 133
        }
      ]
    },
    {
      "cell_type": "code",
      "metadata": {
        "colab": {
          "base_uri": "https://localhost:8080/"
        },
        "id": "jww09o-3krHa",
        "outputId": "dec8ecd8-a6b0-4eaa-806e-41023d1afcd9"
      },
      "source": [
        "true_rows, false_rows = partition(training_data, Question(0, 'Green'))\n",
        "print(info_gain(true_rows, false_rows, current_uncertainty))\n",
        "true_rows, false_rows = partition(training_data, Question(0,'Red'))\n",
        "print(info_gain(true_rows, false_rows, current_uncertainty))"
      ],
      "execution_count": 134,
      "outputs": [
        {
          "output_type": "stream",
          "text": [
            "0.1399999999999999\n",
            "0.37333333333333324\n"
          ],
          "name": "stdout"
        }
      ]
    },
    {
      "cell_type": "markdown",
      "metadata": {
        "id": "jMqI5svxlAEB"
      },
      "source": [
        "We choose the way that returns high info_gain because its impurity after splitting is low."
      ]
    },
    {
      "cell_type": "markdown",
      "metadata": {
        "id": "4SID3i73lxBD"
      },
      "source": [
        "It looks like we learned more using 'Red' (0.37), than 'Green' (0.14).\n",
        "Why? Look at the different splits that result, and see which one looks more 'unmixed' to you."
      ]
    },
    {
      "cell_type": "code",
      "metadata": {
        "colab": {
          "base_uri": "https://localhost:8080/"
        },
        "id": "lFIPZCKtl1po",
        "outputId": "46da7d9b-1d67-4777-a361-3658cb03b09d"
      },
      "source": [
        "true_rows, false_rows = partition(training_data, Question(0,'Red'))\n",
        "print(true_rows)\n",
        "print(false_rows)\n",
        "# at least it can distinguish \"Grape\"."
      ],
      "execution_count": 135,
      "outputs": [
        {
          "output_type": "stream",
          "text": [
            "[['Red', 1, 'Grape'], ['Red', 1, 'Grape']]\n",
            "[['Green', 3, 'Apple'], ['Yellow', 3, 'Apple'], ['Yellow', 3, 'Lemon']]\n"
          ],
          "name": "stdout"
        }
      ]
    },
    {
      "cell_type": "code",
      "metadata": {
        "colab": {
          "base_uri": "https://localhost:8080/"
        },
        "id": "EqsbmUZjps9D",
        "outputId": "03bde368-6e6f-4ef9-caf9-f260569ea212"
      },
      "source": [
        "# On the other hand, partitioning by Green doesn't help so much.\n",
        "true_rows, false_rows = partition(training_data, Question(0,'Green'))\n",
        "\n",
        "# We've isolated one apple in the true rows.\n",
        "print(true_rows)\n",
        "print(false_rows)"
      ],
      "execution_count": 136,
      "outputs": [
        {
          "output_type": "stream",
          "text": [
            "[['Green', 3, 'Apple']]\n",
            "[['Yellow', 3, 'Apple'], ['Red', 1, 'Grape'], ['Red', 1, 'Grape'], ['Yellow', 3, 'Lemon']]\n"
          ],
          "name": "stdout"
        }
      ]
    },
    {
      "cell_type": "code",
      "metadata": {
        "id": "22q1g1Qll__j"
      },
      "source": [
        "def find_best_split(rows):\n",
        "    \"\"\"Find the best question to ask by iterating over every feature / value\n",
        "    and calculating the information gain.\"\"\"\n",
        "    best_gain = 0  # keep track of the best information gain\n",
        "    best_question = None  # keep train of the feature / value that produced it\n",
        "    current_uncertainty = gini(rows)\n",
        "    n_features = len(rows[0]) - 1  # number of columns\n",
        "\n",
        "    for col in range(n_features):\n",
        "      values = set([row[col] for row in rows])\n",
        "      for val in values:\n",
        "        question = Question(col,val)\n",
        "        true_rows,false_rows = partition(rows,question)\n",
        "        if len(true_rows)==0 or len(false_rows)==0 :\n",
        "          continue\n",
        "        gain = info_gain(true_rows,false_rows,current_uncertainty)\n",
        "        # print(f\"{val}:{gain}\")\n",
        "        if gain >= best_gain:\n",
        "          best_gain,best_question = gain,question\n",
        "    return best_gain,best_question"
      ],
      "execution_count": 137,
      "outputs": []
    },
    {
      "cell_type": "code",
      "metadata": {
        "colab": {
          "base_uri": "https://localhost:8080/"
        },
        "id": "2i48u9K1noRW",
        "outputId": "8c7a673c-3333-4c35-acb1-ee47417635aa"
      },
      "source": [
        "\n",
        "training_data = [\n",
        "    ['Green', 3, 'Apple'],\n",
        "    ['Yellow', 3, 'Apple'],\n",
        "    ['Red', 1, 'Grape'],\n",
        "    ['Red', 1, 'Grape'],\n",
        "    ['Yellow', 3, 'Lemon'],\n",
        "]\n",
        "#######\n",
        "# Demo:\n",
        "# Find the best question to ask first for our toy dataset.\n",
        "best_gain, best_question = find_best_split(training_data)\n",
        "best_question\n",
        "# FYI: is color == Red is just as good. See the note in the code above\n",
        "# where I used '>='.\n",
        "#######"
      ],
      "execution_count": 138,
      "outputs": [
        {
          "output_type": "execute_result",
          "data": {
            "text/plain": [
              "Is diameter >= 3?"
            ]
          },
          "metadata": {
            "tags": []
          },
          "execution_count": 138
        }
      ]
    },
    {
      "cell_type": "code",
      "metadata": {
        "id": "rRyFCFeTott0"
      },
      "source": [
        "class Leaf:\n",
        "    \"\"\"A Leaf node classifies data.\n",
        "\n",
        "    This holds a dictionary of class (e.g., \"Apple\") -> number of times\n",
        "    it appears in the rows from the training data that reach this leaf.\n",
        "    \"\"\"\n",
        "\n",
        "    def __init__(self, rows):\n",
        "        self.predictions = class_counts(rows)"
      ],
      "execution_count": 139,
      "outputs": []
    },
    {
      "cell_type": "code",
      "metadata": {
        "id": "x7-YmaX1s-bf"
      },
      "source": [
        "class Decision_Node:\n",
        "    \"\"\"A Decision Node asks a question.\n",
        "\n",
        "    This holds a reference to the question, and to the two child nodes.\n",
        "    \"\"\"\n",
        "\n",
        "    def __init__(self,\n",
        "                 question,\n",
        "                 true_branch,\n",
        "                 false_branch):\n",
        "        self.question = question\n",
        "        self.true_branch = true_branch\n",
        "        self.false_branch = false_branch"
      ],
      "execution_count": 140,
      "outputs": []
    },
    {
      "cell_type": "code",
      "metadata": {
        "id": "kl4jT2ZwtBmP"
      },
      "source": [
        "def build_tree(rows):\n",
        "  best_gain,best_question = find_best_split(rows)\n",
        "  if best_gain == 0 :\n",
        "    return Leaf(rows)\n",
        "  true_rows,false_rows = partition(rows,best_question)\n",
        "  true_node = build_tree(true_rows)\n",
        "  false_node = build_tree(false_rows)\n",
        "  return Decision_Node(best_question,true_node,false_node)"
      ],
      "execution_count": 141,
      "outputs": []
    },
    {
      "cell_type": "code",
      "metadata": {
        "id": "83XmNtSMvOyr"
      },
      "source": [
        "def print_tree(node, spacing=\"\"):\n",
        "    \"\"\"World's most elegant tree printing function.\"\"\"\n",
        "\n",
        "    # Base case: we've reached a leaf\n",
        "    if isinstance(node, Leaf):\n",
        "        print (spacing + \"Predict\", node.predictions)\n",
        "        return\n",
        "\n",
        "    # Print the question at this node\n",
        "    print (spacing + str(node.question))\n",
        "\n",
        "    # Call this function recursively on the true branch\n",
        "    print (spacing + '--> True:')\n",
        "    print_tree(node.true_branch, spacing + \"  \")\n",
        "\n",
        "    # Call this function recursively on the false branch\n",
        "    print (spacing + '--> False:')\n",
        "    print_tree(node.false_branch, spacing + \"  \")"
      ],
      "execution_count": 142,
      "outputs": []
    },
    {
      "cell_type": "code",
      "metadata": {
        "id": "hV3zOs4zvPVS"
      },
      "source": [
        "my_tree = build_tree(training_data)"
      ],
      "execution_count": 143,
      "outputs": []
    },
    {
      "cell_type": "code",
      "metadata": {
        "colab": {
          "base_uri": "https://localhost:8080/"
        },
        "id": "wLZycaG1vQtb",
        "outputId": "2e3a12f2-f282-4adf-f422-5820d2051910"
      },
      "source": [
        "print_tree(my_tree)"
      ],
      "execution_count": 144,
      "outputs": [
        {
          "output_type": "stream",
          "text": [
            "Is diameter >= 3?\n",
            "--> True:\n",
            "  Is color == Yellow?\n",
            "  --> True:\n",
            "    Predict {'Apple': 1, 'Lemon': 1}\n",
            "  --> False:\n",
            "    Predict {'Apple': 1}\n",
            "--> False:\n",
            "  Predict {'Grape': 2}\n"
          ],
          "name": "stdout"
        }
      ]
    },
    {
      "cell_type": "code",
      "metadata": {
        "id": "ebm7JqGIvSMZ"
      },
      "source": [
        "def classify(row,node):\n",
        "  if isinstance(node,Leaf):\n",
        "    return node.predictions\n",
        "  if node.question.match(row):\n",
        "    return classify(row,node.true_branch)\n",
        "  else:\n",
        "    return classify(row,node.false_branch)"
      ],
      "execution_count": 145,
      "outputs": []
    },
    {
      "cell_type": "code",
      "metadata": {
        "colab": {
          "base_uri": "https://localhost:8080/"
        },
        "id": "sWJ6BiXXy8SU",
        "outputId": "0b6af0d5-6e13-4fbf-e4d8-c44ee47cca4f"
      },
      "source": [
        "classify([\"Green\",3], my_tree)"
      ],
      "execution_count": 146,
      "outputs": [
        {
          "output_type": "execute_result",
          "data": {
            "text/plain": [
              "{'Apple': 1}"
            ]
          },
          "metadata": {
            "tags": []
          },
          "execution_count": 146
        }
      ]
    },
    {
      "cell_type": "code",
      "metadata": {
        "id": "6gxtVKkFzQ03"
      },
      "source": [
        "def print_leaf(counts):\n",
        "    \"\"\"A nicer way to print the predictions at a leaf.\"\"\"\n",
        "    total = sum(counts.values()) * 1.0\n",
        "    probs = {}\n",
        "    for lbl in counts.keys():\n",
        "        probs[lbl] = str(int(counts[lbl] / total * 100)) + \"%\"\n",
        "    return probs"
      ],
      "execution_count": 147,
      "outputs": []
    },
    {
      "cell_type": "code",
      "metadata": {
        "colab": {
          "base_uri": "https://localhost:8080/"
        },
        "id": "QyzSwKqZzWtf",
        "outputId": "8dbe74a2-59b5-40a2-ec9c-ae47e4e53614"
      },
      "source": [
        "print_leaf(classify([\"Green\",3], my_tree))\n",
        "print_leaf(classify([\"Yellow\",3], my_tree))"
      ],
      "execution_count": 148,
      "outputs": [
        {
          "output_type": "execute_result",
          "data": {
            "text/plain": [
              "{'Apple': '50%', 'Lemon': '50%'}"
            ]
          },
          "metadata": {
            "tags": []
          },
          "execution_count": 148
        }
      ]
    },
    {
      "cell_type": "code",
      "metadata": {
        "id": "3_bSMKquzCqt"
      },
      "source": [
        "# Evaluate\n",
        "testing_data = [\n",
        "    ['Green', 3, 'Apple'],\n",
        "    ['Yellow', 4, 'Apple'],\n",
        "    ['Red', 2, 'Grape'],\n",
        "    ['Red', 1, 'Grape'],\n",
        "    ['Yellow', 3, 'Lemon'],\n",
        "]"
      ],
      "execution_count": 149,
      "outputs": []
    },
    {
      "cell_type": "code",
      "metadata": {
        "colab": {
          "base_uri": "https://localhost:8080/"
        },
        "id": "oaq_ceDlzhgJ",
        "outputId": "cf0dc1a7-dcfa-4135-ea19-f0142cd24871"
      },
      "source": [
        "for row in testing_data:\n",
        "    print (\"Actual: %s. Predicted: %s\" %\n",
        "           (row[-1], print_leaf(classify(row, my_tree))))"
      ],
      "execution_count": 150,
      "outputs": [
        {
          "output_type": "stream",
          "text": [
            "Actual: Apple. Predicted: {'Apple': '100%'}\n",
            "Actual: Apple. Predicted: {'Apple': '50%', 'Lemon': '50%'}\n",
            "Actual: Grape. Predicted: {'Grape': '100%'}\n",
            "Actual: Grape. Predicted: {'Grape': '100%'}\n",
            "Actual: Lemon. Predicted: {'Apple': '50%', 'Lemon': '50%'}\n"
          ],
          "name": "stdout"
        }
      ]
    },
    {
      "cell_type": "code",
      "metadata": {
        "id": "_iwwL2iazi43"
      },
      "source": [
        ""
      ],
      "execution_count": 150,
      "outputs": []
    }
  ]
}